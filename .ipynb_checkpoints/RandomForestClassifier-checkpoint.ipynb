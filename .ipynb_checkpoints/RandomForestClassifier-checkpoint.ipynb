{
 "cells": [
  {
   "cell_type": "code",
   "execution_count": 20,
   "metadata": {},
   "outputs": [],
   "source": [
    "import pandas as pd\n",
    "import os\n",
    "import shutil\n",
    "from sklearn.ensemble import RandomForestClassifier\n",
    "import getFeatures as gf"
   ]
  },
  {
   "cell_type": "code",
   "execution_count": 14,
   "metadata": {
    "scrolled": true
   },
   "outputs": [
    {
     "name": "stdout",
     "output_type": "stream",
     "text": [
      "                                            Unnamed: 0        20        21  \\\n",
      "0    AeAeg_Aag2_NL-M3.24_35.trim.fastq.uq.polyn.5to...  2.183246  2.038373   \n",
      "1    AeAeg_Aag2_Zika.24_35.trim.fastq.uq.polyn.5to5...  0.028220  0.142071   \n",
      "2    AeAeg_CCL-125_cells.24_35.trim.fastq.uq.polyn....  3.194493  3.097131   \n",
      "3    AeAeg_Fcarc_GH_rep2.24_35.trim.fastq.uq.polyn....  2.352508  2.055730   \n",
      "4    AeAeg_Fcarc_GH.24_35.trim.fastq.uq.polyn.5to5_...  2.355531  2.249036   \n",
      "..                                                 ...       ...       ...   \n",
      "266  Dmel_sRNA_HarXw1_2-4day.24_35.trim.fastq.uq.po...  0.109703 -0.198688   \n",
      "267  Dmel_sRNA_HarXw1_21day.24_35.trim.fastq.uq.pol...  1.443632  0.920489   \n",
      "268  Dmel_sRNA_w1XHar_2-4day.24_35.trim.fastq.uq.po...  1.933955  1.411345   \n",
      "269  Dmel_sRNA_w1XHar_21day.24_35.trim.fastq.uq.pol...  0.209579 -0.060409   \n",
      "270  Dmel_WRR12016_sRNA.24_35.trim.fastq.uq.polyn.5...  1.718880  1.148643   \n",
      "\n",
      "           22        23        24        25        26        27        28  \\\n",
      "0    1.505317  1.279427  1.327655  1.168196  1.215287  1.392723  2.150354   \n",
      "1   -0.034206  0.143544  0.381536  0.478751  0.691691  1.579562  2.944607   \n",
      "2    2.651953  2.500765  2.229419  1.876204  1.784731  1.959810  2.258705   \n",
      "3    1.697019  1.325317  1.544105  1.309022  1.246432  1.650189  1.763885   \n",
      "4    2.008763  1.805347  1.882096  1.630672  1.627945  1.766103  1.687647   \n",
      "..        ...       ...       ...       ...       ...       ...       ...   \n",
      "266 -0.676266 -0.407921  1.679662  3.072350  4.512929  5.280956  4.867266   \n",
      "267  0.031970 -0.089505  1.671578  2.961165  3.901261  4.992591  5.074739   \n",
      "268  0.332199 -0.197621  1.514543  2.635299  3.365133  4.226298  4.531518   \n",
      "269 -0.746704 -0.858482  1.479730  3.127676  3.998920  4.836380  5.208785   \n",
      "270  0.795004  1.036247  2.755232  3.950611  4.221059  3.511399  2.121541   \n",
      "\n",
      "     ...       190       191       192       193       194       195  \\\n",
      "0    ... -1.205682 -1.051035 -1.081348 -1.197628 -1.173473 -1.115339   \n",
      "1    ... -1.267937 -1.066885 -1.293184 -1.380968 -0.876082 -1.126471   \n",
      "2    ... -1.093785 -1.050322 -1.018320 -1.024505 -1.070180 -1.065575   \n",
      "3    ... -1.110688 -1.260308 -1.191289 -1.363432 -1.401173 -1.367766   \n",
      "4    ... -1.252023 -1.326182 -1.295171 -1.425049 -1.425377 -1.336839   \n",
      "..   ...       ...       ...       ...       ...       ...       ...   \n",
      "266  ... -0.923156 -0.288910 -0.873526 -0.757517 -0.643452 -0.770683   \n",
      "267  ... -0.712623 -0.600821 -0.731863 -0.961503 -0.875613 -0.793747   \n",
      "268  ... -1.022969 -0.870595 -0.839624 -1.318732 -0.920126 -1.096141   \n",
      "269  ... -0.578896 -0.636038 -0.685070 -1.025156 -0.682375 -0.767627   \n",
      "270  ... -1.154662 -1.248207 -1.180730 -1.193819 -1.281781 -1.254150   \n",
      "\n",
      "          196       197       198       199  \n",
      "0   -1.252054 -1.248606 -1.298574 -1.224468  \n",
      "1   -1.127638 -1.127393 -0.827944 -0.946906  \n",
      "2   -1.108637 -1.118404 -1.110766 -1.047889  \n",
      "3   -1.440375 -1.324329 -1.340190 -1.384980  \n",
      "4   -1.387831 -1.439654 -1.374452 -1.425241  \n",
      "..        ...       ...       ...       ...  \n",
      "266 -0.793605 -0.491116 -0.397654 -0.334891  \n",
      "267 -0.760281 -0.933297 -0.832439 -0.717671  \n",
      "268 -1.172742 -1.113518 -0.950742 -1.056659  \n",
      "269 -0.974847 -0.474801 -0.407540 -0.822192  \n",
      "270 -1.261672 -1.314846 -1.258988 -1.266600  \n",
      "\n",
      "[271 rows x 181 columns]\n"
     ]
    }
   ],
   "source": [
    "train = pd.read_csv('train_set.csv')\n",
    "test = pd.read_csv('test_set.csv')\n",
    "ranks = pd.read_excel('ranked_curves.xlsx')\n",
    "print(train)"
   ]
  },
  {
   "cell_type": "code",
   "execution_count": 15,
   "metadata": {
    "scrolled": false
   },
   "outputs": [
    {
     "name": "stdout",
     "output_type": "stream",
     "text": [
      "Train:\n",
      "AeAeg_Fcarc_GH.24_35.trim.fastq.uq.polyn.5to5_SPECIES.xls\n",
      "AnGam_larvae_female_TN.24_35.trim.fastq.uq.polyn.5to5_SPECIES.xls\n",
      "AnGam_larvae_ovaries_TN.24_35.trim.fastq.uq.polyn.5to5_SPECIES.xls\n",
      "AnGam_WholeFemale_PBInfect_IB.24_35.trim.fastq.uq.polyn.5to5_SPECIES.xls\n",
      "AnGam_WholeFemaleAgo1Rnai_IB.24_35.trim.fastq.uq.polyn.5to5_SPECIES.xls\n",
      "CuQuin_MG_7dpi1.24_35.trim.fastq.uq.polyn.pingpong_SPECIES.xls\n",
      "Test:\n",
      "AeAeg_Female_FJ_Ovary.24_35.trim.fastq.uq.polyn.5to5_SPECIES.xls\n",
      "AeAeg_Female_FJ_Soma.24_35.trim.fastq.uq.polyn.5to5_SPECIES.xls\n",
      "AeAeg_Whole_undet_8dpf_JM.24_35.trim.fastq.uq.polyn.5to5_SPECIES.xls\n",
      "AeAlbo_JapFcar_AEFV_MERV_SHTV_YS.24_35.trim.fastq.uq.polyn.5to5_SPECIES.xls\n",
      "Dmel_OSSLau2009_sRNA.24_35.trim.fastq.uq.polyn.5to5_SPECIES.xls\n",
      "Dmel_OSSLau2018_sRNA.24_35.trim.fastq.uq.polyn.5to5_SPECIES.xls\n"
     ]
    }
   ],
   "source": [
    "true_file2rank = dict()\n",
    "for i in range(ranks.shape[0]):\n",
    "    true_file2rank[ranks.loc[i, 'name']] = ranks.loc[i, 'rank']\n",
    "\n",
    "train_file2rank = dict()\n",
    "print('Train:')\n",
    "for i in range(train.shape[0]):\n",
    "    if train.iloc[i, 0] in true_file2rank.keys():\n",
    "        train_file2rank[train.iloc[i, 0]] = true_file2rank[train.iloc[i, 0]]\n",
    "    else:\n",
    "        print(train.iloc[i, 0])\n",
    "\n",
    "test_file2rank = dict()\n",
    "print('Test:')\n",
    "for i in range(test.shape[0]):\n",
    "    if test.iloc[i, 0] in true_file2rank.keys():\n",
    "        test_file2rank[test.iloc[i, 0]] = true_file2rank[test.iloc[i, 0]]\n",
    "    else:\n",
    "        print(test.iloc[i, 0])"
   ]
  },
  {
   "cell_type": "code",
   "execution_count": 16,
   "metadata": {},
   "outputs": [],
   "source": [
    "def get_all_files(directory):\n",
    "    filenames = []\n",
    "    for filename in os.listdir(directory):\n",
    "        if filename.endswith('.xlsx') or filename.endswith('.xls'):\n",
    "            filenames.append(filename)\n",
    "    return filenames\n",
    "\n",
    "dataFiles = ['AeAeg2', 'AeAlbo2', 'AnGam2', 'CuQuin2', 'Dmel2']\n",
    "for directory in dataFiles:\n",
    "    filenames = get_all_files(directory)\n",
    "    for filename in filenames:\n",
    "        if filename in train_file2rank.keys():\n",
    "            shutil.copy(directory + '/' + filename, 'train')\n",
    "        elif filename in test_file2rank.keys():\n",
    "            shutil.copy(directory + '/' + filename, 'test')"
   ]
  },
  {
   "cell_type": "code",
   "execution_count": 17,
   "metadata": {},
   "outputs": [
    {
     "name": "stdout",
     "output_type": "stream",
     "text": [
      "265\n",
      "62\n"
     ]
    }
   ],
   "source": [
    "print(len(train_file2rank.keys()))\n",
    "print(len(test_file2rank.keys()))"
   ]
  },
  {
   "cell_type": "code",
   "execution_count": null,
   "metadata": {},
   "outputs": [],
   "source": [
    "for filename in train_file2rank.keys():\n",
    "    print(gf.classify(filename))\n",
    "    break"
   ]
  }
 ],
 "metadata": {
  "kernelspec": {
   "display_name": "Python 3",
   "language": "python",
   "name": "python3"
  },
  "language_info": {
   "codemirror_mode": {
    "name": "ipython",
    "version": 3
   },
   "file_extension": ".py",
   "mimetype": "text/x-python",
   "name": "python",
   "nbconvert_exporter": "python",
   "pygments_lexer": "ipython3",
   "version": "3.8.10"
  }
 },
 "nbformat": 4,
 "nbformat_minor": 4
}

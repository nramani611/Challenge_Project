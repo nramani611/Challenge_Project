{
 "cells": [
  {
   "cell_type": "code",
   "execution_count": 26,
   "metadata": {},
   "outputs": [],
   "source": [
    "import numpy as np\n",
    "import pandas as pd\n",
    "import random"
   ]
  },
  {
   "cell_type": "code",
   "execution_count": 2,
   "metadata": {},
   "outputs": [],
   "source": [
    "allFeatures = pd.read_excel('AllFeatures.xls')\n",
    "clusters = pd.read_excel('Clusters.xls')"
   ]
  },
  {
   "cell_type": "code",
   "execution_count": 13,
   "metadata": {},
   "outputs": [
    {
     "name": "stdout",
     "output_type": "stream",
     "text": [
      "{'AeAeg_Female_Ovary_BetaE.24_35.trim.fastq.uq.polyn.5to5_SPECIES.xls': (1.0, 1.0, 0.8611111111111112, 0.6324555320336759, 4623.514151859413, 99.38321035918106, 1.458804107787413), 'AeAeg_Ovary_BF48h_cat.24_35.trim.fastq.uq.polyn.5to5_SPECIES.xls': (0.5454545454545454, 1.0, 0.9166666666666666, 3.1622776601683795, 1653.6517055818802, 99.88470198396189, 1.509502520601749), 'AeAeg_Ovary_NonBF_cat.24_35.trim.fastq.uq.polyn.5to5_SPECIES.xls': (0.75, 1.0, 0.9222222222222223, 3.059411708155671, 2191.7726869857943, 95.42609831072724, 1.489699561665424), 'AaAeg_whole_SINV_YFVcapsid.24_35.trim.fastq.uq.polyn.5to5_SPECIES.xls': (1.0, 1.0, 0.8555555555555555, 0.4, 2375.1353975051857, 82.81844323457865, 1.436349476618429), 'AeAeg_Embryo_0-2h_cat.24_35.trim.fastq.uq.polyn.5to5_SPECIES.xls': (0.6666666666666666, 1.0, 0.9222222222222223, 3.059411708155671, 1574.6647865998239, 105.5374954555911, 1.522346927644125), 'AeAeg_Ovary_GH.24_35.trim.fastq.uq.polyn.5to5_SPECIES.xls': (0.75, 1.0, 0.8555555555555555, 0.7483314773547882, 2458.3852269448266, 73.84379039054816, 1.340822736253643), 'AeAlbo_CHIKV_9dpi.24_35.trim.fastq.uq.polyn.5to5_SPECIES.xls': (0.75, 1.0, 0.9166666666666666, 3.5777087639996634, 3234.9077814880934, 46.00805316031349, 1.293392904559373), 'AeAlbo_Ovary_OA.24_35.trim.fastq.uq.polyn.5to5_SPECIES.xls': (0.8571428571428571, 1.0, 0.9166666666666666, 3.03315017762062, 4979.800318326469, 82.35097956614098, 1.445129557126826), 'AeAlbo_Testis_OA.24_35.trim.fastq.uq.polyn.5to5_SPECIES.xls': (0.8571428571428571, 1.0, 0.9166666666666666, 3.03315017762062, 1412.8662003972433, 100.9314365930201, 1.38376324847884), 'AeAlbo_VietOvaries_AEFV_MERV_SHTV_YS.24_35.trim.fastq.uq.polyn.5to5_SPECIES.xls': (0.8571428571428571, 1.0, 0.9111111111111111, 3.1240998703626617, 1470.6833799923322, 81.99394111338663, 1.422793520640223), 'CuQuin_Ovary_NL.24_35.trim.fastq.uq.polyn.5to5_SPECIES.xls': (0.8571428571428571, 1.0, 0.8722222222222222, 0.8, 1697.088114790683, 78.20408319216408, 1.602028130431853)}\n"
     ]
    }
   ],
   "source": [
    "best = clusters.iloc[:, 0]\n",
    "best = best.dropna()\n",
    "file2feature = dict()\n",
    "\n",
    "for i in range(best.shape[0]):\n",
    "    filename = best.iloc[i]\n",
    "    #print(filename)\n",
    "    for j in range(allFeatures.shape[0]):\n",
    "        if filename == allFeatures.iloc[j, 0]:\n",
    "            file2feature[filename] = allFeatures.loc[j, 'Ratio of Peaks Found'], allFeatures.loc[j, 'Ratio of Peaks to Ideal'], allFeatures.loc[j, 'Ratio of Range'], allFeatures.loc[j, 'Inverse Standard Deviation'], allFeatures.loc[j, 'Smoothing Error'], allFeatures.loc[j, 'Area Under the Curve'], allFeatures.loc[j, 'Normed Area Under the Curve']\n",
    "            break"
   ]
  },
  {
   "cell_type": "code",
   "execution_count": 22,
   "metadata": {},
   "outputs": [
    {
     "name": "stdout",
     "output_type": "stream",
     "text": [
      "{'AeAeg_Female_Ovary_BetaE.24_35.trim.fastq.uq.polyn.5to5_SPECIES.xls': 8, 'AeAeg_Ovary_BF48h_cat.24_35.trim.fastq.uq.polyn.5to5_SPECIES.xls': 4, 'AeAeg_Ovary_NonBF_cat.24_35.trim.fastq.uq.polyn.5to5_SPECIES.xls': 9, 'AaAeg_whole_SINV_YFVcapsid.24_35.trim.fastq.uq.polyn.5to5_SPECIES.xls': 1, 'AeAeg_Embryo_0-2h_cat.24_35.trim.fastq.uq.polyn.5to5_SPECIES.xls': 11, 'AeAeg_Ovary_GH.24_35.trim.fastq.uq.polyn.5to5_SPECIES.xls': 7, 'AeAlbo_CHIKV_9dpi.24_35.trim.fastq.uq.polyn.5to5_SPECIES.xls': 10, 'AeAlbo_Ovary_OA.24_35.trim.fastq.uq.polyn.5to5_SPECIES.xls': 3, 'AeAlbo_Testis_OA.24_35.trim.fastq.uq.polyn.5to5_SPECIES.xls': 2, 'AeAlbo_VietOvaries_AEFV_MERV_SHTV_YS.24_35.trim.fastq.uq.polyn.5to5_SPECIES.xls': 6, 'CuQuin_Ovary_NL.24_35.trim.fastq.uq.polyn.5to5_SPECIES.xls': 5}\n"
     ]
    }
   ],
   "source": [
    "ranks = np.loadtxt('QualitativeClusters.txt')\n",
    "file2rank = dict()\n",
    "\n",
    "for i in range(ranks.shape[0]):\n",
    "    file2rank[best.iloc[i]] = int(ranks[i])"
   ]
  },
  {
   "cell_type": "code",
   "execution_count": null,
   "metadata": {},
   "outputs": [],
   "source": [
    "def find_error(file2rank, rankings):\n",
    "    error = 0\n",
    "    for i in range(len(rankings)):\n",
    "        error += abs(file2rank[rankings[i]] - (i+1))\n",
    "    return error"
   ]
  },
  {
   "cell_type": "code",
   "execution_count": 32,
   "metadata": {},
   "outputs": [
    {
     "name": "stdout",
     "output_type": "stream",
     "text": [
      "3\n"
     ]
    }
   ],
   "source": [
    "weights = [random.randint(0, 100) for _ in range(7)]\n",
    "\n",
    "for _ in range(500): \n",
    "    index = random.choice([i for i in range(7)])\n",
    "    \n",
    "    for j in range(101):\n",
    "        for key in file2feature.keys():\n",
    "            rpf, rpi, rr, isd, se, auc, aucNorm = file2feature[key]\n",
    "            isd = isd**-1"
   ]
  },
  {
   "cell_type": "code",
   "execution_count": null,
   "metadata": {},
   "outputs": [],
   "source": []
  }
 ],
 "metadata": {
  "kernelspec": {
   "display_name": "Python 3",
   "language": "python",
   "name": "python3"
  },
  "language_info": {
   "codemirror_mode": {
    "name": "ipython",
    "version": 3
   },
   "file_extension": ".py",
   "mimetype": "text/x-python",
   "name": "python",
   "nbconvert_exporter": "python",
   "pygments_lexer": "ipython3",
   "version": "3.8.5"
  }
 },
 "nbformat": 4,
 "nbformat_minor": 4
}
